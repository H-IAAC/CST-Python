{
 "cells": [
  {
   "cell_type": "code",
   "execution_count": 56,
   "metadata": {},
   "outputs": [],
   "source": [
    "from typing import Optional, Any\n",
    "\n",
    "import gymnasium as gym\n",
    "from gymnasium.wrappers import TransformAction, TransformObservation\n",
    "\n",
    "import cst_python as cst\n",
    "from cst_python.core.entities import Memory, MemoryObject"
   ]
  },
  {
   "cell_type": "code",
   "execution_count": null,
   "metadata": {},
   "outputs": [],
   "source": [
    "class GymCodelet(cst.Codelet):\n",
    "    _last_indexes = {\"reward\":-1, \"reset\":-1, \"terminated\":-1, \"truncated\":-1, \"info\":-1, \"seed\":-1}\n",
    "\n",
    "    def __init__(self, mind:cst.Mind, env:gym.Env):\n",
    "        super().__init__()\n",
    "        \n",
    "        self.env = env\n",
    "        \n",
    "        self.observation_memories = self.space_to_memories(mind, env.observation_space)\n",
    "        self.action_memories = self.space_to_memories(mind, env.action_space, action=True)\n",
    "\n",
    "        self._common_memories : dict[str, MemoryObject] = {}\n",
    "        for name in [\"reward\", \"reset\", \"terminated\", \"truncated\", \"info\", \"seed\"]:\n",
    "            self._last_indexes[name] += 1\n",
    "\n",
    "            memory_name = name\n",
    "            if self._last_indexes[name] != 0:\n",
    "                memory_name += str(self._last_indexes[name])\n",
    "            \n",
    "            self._common_memories[name] = mind.create_memory_object(memory_name)\n",
    "\n",
    "        self._common_memories[\"reward\"].set_info(0.0)\n",
    "        self._common_memories[\"reset\"].set_info(False)\n",
    "        self._common_memories[\"terminated\"].set_info(False)\n",
    "        self._common_memories[\"truncated\"].set_info(False)\n",
    "        self._common_memories[\"info\"].set_info({})\n",
    "        self._common_memories[\"seed\"].set_info(None)\n",
    "\n",
    "\n",
    "        self.is_memory_observer = True\n",
    "        for memory_name in self.action_memories:\n",
    "            memory = self.action_memories[memory_name]\n",
    "            memory.add_memory_observer(self)\n",
    "        self._common_memories[\"reset\"].add_memory_observer(self)\n",
    "\n",
    "        self._last_reset = self._common_memories[\"reset\"].get_timestamp()\n",
    "\n",
    "    @property\n",
    "    def reward_memory(self) -> MemoryObject:\n",
    "        return self._common_memories[\"reward\"]\n",
    "    \n",
    "    @property\n",
    "    def reset_memory(self) -> MemoryObject:\n",
    "        return self._common_memories[\"reset\"]\n",
    "    \n",
    "    @property\n",
    "    def terminated_memory(self) -> MemoryObject:\n",
    "        return self._common_memories[\"terminated\"]\n",
    "    \n",
    "    @property\n",
    "    def truncated_memory(self) -> MemoryObject:\n",
    "        return self._common_memories[\"truncated\"]\n",
    "    \n",
    "    @property\n",
    "    def info_memory(self) -> MemoryObject:\n",
    "        return self._common_memories[\"info\"]\n",
    "    \n",
    "    @property\n",
    "    def seed_memory(self) -> MemoryObject:\n",
    "        return self._common_memories[\"seed\"]\n",
    "\n",
    "    def access_memory_objects(self):\n",
    "        pass\n",
    "\n",
    "    def calculate_activation(self):\n",
    "        pass\n",
    "\n",
    "    def proc(self):\n",
    "        if self._last_reset < self.reset_memory.get_timestamp():\n",
    "            self._last_reset = self.reset_memory.get_timestamp()\n",
    "\n",
    "            observation, info = self.env.reset(seed=self.seed_memory.get_info())\n",
    "            reward = 0\n",
    "            terminated = False\n",
    "            truncated = False\n",
    "\n",
    "        else:\n",
    "            action = self.memories_to_space(self.action_memories, self.env.action_space)\n",
    "            observation, reward, terminated, truncated, info = self.env.step(action)\n",
    "\n",
    "            print(\"Observation\", observation)\n",
    "    \n",
    "        self.reward_memory.set_info(reward)\n",
    "        self.terminated_memory.set_info(terminated)\n",
    "        self.truncated_memory.set_info(truncated)\n",
    "        self.info_memory.set_info(info)\n",
    "\n",
    "        self.sample_to_memories(observation, self.observation_memories)\n",
    "\n",
    "    @classmethod\n",
    "    def space_to_memories(cls, mind:cst.Mind, \n",
    "                          space:gym.Space,\n",
    "                          action:bool=False) -> dict[str, cst.MemoryObject]:\n",
    "        memories = {}\n",
    "\n",
    "        if isinstance(space, gym.spaces.Dict):\n",
    "            for space_name in space:\n",
    "                subspace = space[space_name]\n",
    "\n",
    "                name = space_name\n",
    "                if space_name in cls._last_indexes:\n",
    "                    cls._last_indexes[space_name] += 1\n",
    "                    name += str(cls._last_indexes[space_name])\n",
    "                else:\n",
    "                    cls._last_indexes[space_name] = 0\n",
    "\n",
    "                info = subspace.sample()\n",
    "                memory = mind.create_memory_object(name, info)\n",
    "                memories[space_name] = memory\n",
    "            \n",
    "        else:\n",
    "            if action:\n",
    "                space_name = \"action\"\n",
    "            else:\n",
    "                space_name = \"observation\"\n",
    "\n",
    "            name = space_name\n",
    "            if space_name in cls._last_indexes:\n",
    "                cls._last_indexes[space_name] += 1\n",
    "                name += str(cls._last_indexes[space_name])\n",
    "            else:\n",
    "                cls._last_indexes[space_name] = 0\n",
    "\n",
    "            info = space.sample()\n",
    "            memory = mind.create_memory_object(name, info)\n",
    "            memories[space_name] = memory\n",
    "            \n",
    "\n",
    "        return memories\n",
    "    \n",
    "    @classmethod\n",
    "    def sample_to_memories(cls, sample:dict[str, Any]|Any, memories:dict[str, Memory]) -> None:\n",
    "        if isinstance(sample, dict):\n",
    "            for name in sample:\n",
    "                element = sample[name]\n",
    "                memory = memories[name]\n",
    "                \n",
    "                memory.set_info(element)\n",
    "        else:\n",
    "            memory = memories[next(iter(memories))]\n",
    "            memory.set_info(sample)\n",
    "        \n",
    "\n",
    "    @classmethod\n",
    "    def memories_to_space(cls, memories:dict[str, Memory], space:gym.spaces.Dict) -> dict[str, Any]|Any:\n",
    "        if isinstance(space, gym.spaces.Dict):\n",
    "            sample = {}\n",
    "            for memory_name in memories:\n",
    "                sample[memory_name] = memories[memory_name].get_info()\n",
    "        else:\n",
    "            sample = memories[next(iter(memories))].get_info()\n",
    "\n",
    "        if not space.contains(sample):\n",
    "            raise ValueError(\"Memories do not correspond to an element of the Space.\")\n",
    "        \n",
    "        return sample"
   ]
  },
  {
   "cell_type": "code",
   "execution_count": 58,
   "metadata": {},
   "outputs": [],
   "source": [
    "env = gym.make(\"Blackjack-v1\")\n",
    "\n",
    "env = TransformObservation(env, \n",
    "                           lambda obs:{\"player_sum\":obs[0], \"dealer_card\":obs[1], \"usable_ace\":obs[2]}, \n",
    "                           gym.spaces.Dict({\"player_sum\":env.observation_space[0], \"dealer_card\":env.observation_space[1], \"usable_ace\":env.observation_space[2]}))\n",
    "\n",
    "env = TransformAction(env, \n",
    "                           lambda action:action[\"hit\"], \n",
    "                           gym.spaces.Dict({\"hit\":env.action_space}))\n",
    "\n"
   ]
  },
  {
   "cell_type": "code",
   "execution_count": 59,
   "metadata": {},
   "outputs": [
    {
     "name": "stdout",
     "output_type": "stream",
     "text": [
      "GymCodelet execution\n"
     ]
    },
    {
     "data": {
      "text/plain": [
       "-1"
      ]
     },
     "execution_count": 59,
     "metadata": {},
     "output_type": "execute_result"
    }
   ],
   "source": [
    "mind = cst.Mind()\n",
    "gym_codelet = GymCodelet(mind, env)\n",
    "mind.insert_codelet(gym_codelet)\n",
    "\n",
    "mind.start()\n",
    "gym_codelet.seed_memory.set_info(42)\n",
    "gym_codelet.reset_memory.set_info(not gym_codelet.reset_memory.get_info())"
   ]
  },
  {
   "cell_type": "code",
   "execution_count": 60,
   "metadata": {},
   "outputs": [
    {
     "data": {
      "text/plain": [
       "({'dealer_card': MemoryObject [idmemoryobject=0, timestamp=1732659816658, evaluation=0.0, I=2, name=dealer_card],\n",
       "  'player_sum': MemoryObject [idmemoryobject=1, timestamp=1732659816658, evaluation=0.0, I=15, name=player_sum],\n",
       "  'usable_ace': MemoryObject [idmemoryobject=2, timestamp=1732659816658, evaluation=0.0, I=0, name=usable_ace]},\n",
       " MemoryObject [idmemoryobject=6, timestamp=1732659816658, evaluation=0.0, I=False, name=terminated],\n",
       " MemoryObject [idmemoryobject=4, timestamp=1732659816658, evaluation=0.0, I=0, name=reward])"
      ]
     },
     "execution_count": 60,
     "metadata": {},
     "output_type": "execute_result"
    }
   ],
   "source": [
    "gym_codelet.observation_memories, gym_codelet.terminated_memory, gym_codelet.reward_memory"
   ]
  },
  {
   "cell_type": "code",
   "execution_count": 61,
   "metadata": {},
   "outputs": [
    {
     "name": "stdout",
     "output_type": "stream",
     "text": [
      "Observation {'player_sum': 25, 'dealer_card': 2, 'usable_ace': 0}\n",
      "GymCodelet execution\n"
     ]
    },
    {
     "data": {
      "text/plain": [
       "-1"
      ]
     },
     "execution_count": 61,
     "metadata": {},
     "output_type": "execute_result"
    }
   ],
   "source": [
    "gym_codelet.action_memories[\"hit\"].set_info(1)"
   ]
  },
  {
   "cell_type": "code",
   "execution_count": 62,
   "metadata": {},
   "outputs": [
    {
     "data": {
      "text/plain": [
       "({'dealer_card': MemoryObject [idmemoryobject=0, timestamp=1732659816687, evaluation=0.0, I=2, name=dealer_card],\n",
       "  'player_sum': MemoryObject [idmemoryobject=1, timestamp=1732659816687, evaluation=0.0, I=25, name=player_sum],\n",
       "  'usable_ace': MemoryObject [idmemoryobject=2, timestamp=1732659816687, evaluation=0.0, I=0, name=usable_ace]},\n",
       " MemoryObject [idmemoryobject=6, timestamp=1732659816687, evaluation=0.0, I=True, name=terminated],\n",
       " MemoryObject [idmemoryobject=4, timestamp=1732659816687, evaluation=0.0, I=-1.0, name=reward])"
      ]
     },
     "execution_count": 62,
     "metadata": {},
     "output_type": "execute_result"
    }
   ],
   "source": [
    "gym_codelet.observation_memories, gym_codelet.terminated_memory, gym_codelet.reward_memory"
   ]
  },
  {
   "cell_type": "code",
   "execution_count": 63,
   "metadata": {},
   "outputs": [
    {
     "name": "stdout",
     "output_type": "stream",
     "text": [
      "GymCodelet execution\n"
     ]
    },
    {
     "data": {
      "text/plain": [
       "-1"
      ]
     },
     "execution_count": 63,
     "metadata": {},
     "output_type": "execute_result"
    }
   ],
   "source": [
    "gym_codelet.reset_memory.set_info(True)"
   ]
  },
  {
   "cell_type": "code",
   "execution_count": 64,
   "metadata": {},
   "outputs": [
    {
     "data": {
      "text/plain": [
       "({'dealer_card': MemoryObject [idmemoryobject=0, timestamp=1732659816736, evaluation=0.0, I=2, name=dealer_card],\n",
       "  'player_sum': MemoryObject [idmemoryobject=1, timestamp=1732659816736, evaluation=0.0, I=15, name=player_sum],\n",
       "  'usable_ace': MemoryObject [idmemoryobject=2, timestamp=1732659816736, evaluation=0.0, I=0, name=usable_ace]},\n",
       " MemoryObject [idmemoryobject=6, timestamp=1732659816736, evaluation=0.0, I=False, name=terminated],\n",
       " MemoryObject [idmemoryobject=4, timestamp=1732659816736, evaluation=0.0, I=0, name=reward])"
      ]
     },
     "execution_count": 64,
     "metadata": {},
     "output_type": "execute_result"
    }
   ],
   "source": [
    "gym_codelet.observation_memories, gym_codelet.terminated_memory, gym_codelet.reward_memory"
   ]
  },
  {
   "cell_type": "code",
   "execution_count": 65,
   "metadata": {},
   "outputs": [
    {
     "name": "stdout",
     "output_type": "stream",
     "text": [
      "Observation {'player_sum': 15, 'dealer_card': 2, 'usable_ace': 0}\n",
      "GymCodelet execution\n"
     ]
    },
    {
     "data": {
      "text/plain": [
       "-1"
      ]
     },
     "execution_count": 65,
     "metadata": {},
     "output_type": "execute_result"
    }
   ],
   "source": [
    "gym_codelet.action_memories[\"hit\"].set_info(0)"
   ]
  },
  {
   "cell_type": "code",
   "execution_count": 66,
   "metadata": {},
   "outputs": [
    {
     "data": {
      "text/plain": [
       "({'dealer_card': MemoryObject [idmemoryobject=0, timestamp=1732659816814, evaluation=0.0, I=2, name=dealer_card],\n",
       "  'player_sum': MemoryObject [idmemoryobject=1, timestamp=1732659816814, evaluation=0.0, I=15, name=player_sum],\n",
       "  'usable_ace': MemoryObject [idmemoryobject=2, timestamp=1732659816814, evaluation=0.0, I=0, name=usable_ace]},\n",
       " MemoryObject [idmemoryobject=6, timestamp=1732659816814, evaluation=0.0, I=True, name=terminated],\n",
       " MemoryObject [idmemoryobject=4, timestamp=1732659816814, evaluation=0.0, I=1.0, name=reward])"
      ]
     },
     "execution_count": 66,
     "metadata": {},
     "output_type": "execute_result"
    }
   ],
   "source": [
    "gym_codelet.observation_memories, gym_codelet.terminated_memory, gym_codelet.reward_memory"
   ]
  },
  {
   "cell_type": "code",
   "execution_count": 67,
   "metadata": {},
   "outputs": [
    {
     "name": "stdout",
     "output_type": "stream",
     "text": [
      "GymCodelet execution\n"
     ]
    },
    {
     "data": {
      "text/plain": [
       "-1"
      ]
     },
     "execution_count": 67,
     "metadata": {},
     "output_type": "execute_result"
    }
   ],
   "source": [
    "env = gym.make(\"Blackjack-v1\")\n",
    "mind = cst.Mind()\n",
    "\n",
    "gym_codelet = GymCodelet(mind, env)\n",
    "mind.insert_codelet(gym_codelet)\n",
    "\n",
    "mind.start()\n",
    "gym_codelet.seed_memory.set_info(42)\n",
    "gym_codelet.reset_memory.set_info(not gym_codelet.reset_memory.get_info())"
   ]
  },
  {
   "cell_type": "code",
   "execution_count": 68,
   "metadata": {},
   "outputs": [
    {
     "data": {
      "text/plain": [
       "({'observation': MemoryObject [idmemoryobject=0, timestamp=1732659816913, evaluation=0.0, I=(15, 2, 0), name=observation]},\n",
       " MemoryObject [idmemoryobject=4, timestamp=1732659816913, evaluation=0.0, I=False, name=terminated1],\n",
       " MemoryObject [idmemoryobject=2, timestamp=1732659816913, evaluation=0.0, I=0, name=reward1])"
      ]
     },
     "execution_count": 68,
     "metadata": {},
     "output_type": "execute_result"
    }
   ],
   "source": [
    "gym_codelet.observation_memories, gym_codelet.terminated_memory, gym_codelet.reward_memory"
   ]
  },
  {
   "cell_type": "code",
   "execution_count": 69,
   "metadata": {},
   "outputs": [
    {
     "name": "stdout",
     "output_type": "stream",
     "text": [
      "Observation (25, 2, 0)\n",
      "GymCodelet execution\n"
     ]
    },
    {
     "data": {
      "text/plain": [
       "-1"
      ]
     },
     "execution_count": 69,
     "metadata": {},
     "output_type": "execute_result"
    }
   ],
   "source": [
    "gym_codelet.action_memories[\"action\"].set_info(1)"
   ]
  },
  {
   "cell_type": "code",
   "execution_count": 70,
   "metadata": {},
   "outputs": [
    {
     "data": {
      "text/plain": [
       "({'observation': MemoryObject [idmemoryobject=0, timestamp=1732659816947, evaluation=0.0, I=(25, 2, 0), name=observation]},\n",
       " MemoryObject [idmemoryobject=4, timestamp=1732659816947, evaluation=0.0, I=True, name=terminated1],\n",
       " MemoryObject [idmemoryobject=2, timestamp=1732659816947, evaluation=0.0, I=-1.0, name=reward1])"
      ]
     },
     "execution_count": 70,
     "metadata": {},
     "output_type": "execute_result"
    }
   ],
   "source": [
    "gym_codelet.observation_memories, gym_codelet.terminated_memory, gym_codelet.reward_memory"
   ]
  },
  {
   "cell_type": "code",
   "execution_count": null,
   "metadata": {},
   "outputs": [],
   "source": []
  }
 ],
 "metadata": {
  "kernelspec": {
   "display_name": "Python 3",
   "language": "python",
   "name": "python3"
  },
  "language_info": {
   "codemirror_mode": {
    "name": "ipython",
    "version": 3
   },
   "file_extension": ".py",
   "mimetype": "text/x-python",
   "name": "python",
   "nbconvert_exporter": "python",
   "pygments_lexer": "ipython3",
   "version": "3.11.9"
  }
 },
 "nbformat": 4,
 "nbformat_minor": 2
}
