{
 "cells": [
  {
   "cell_type": "code",
   "execution_count": 1,
   "metadata": {},
   "outputs": [],
   "source": [
    "import time\n",
    "\n",
    "import redis\n",
    "\n",
    "import cst_python as cst\n",
    "from cst_python.memory_storage import MemoryStorageCodelet"
   ]
  },
  {
   "cell_type": "code",
   "execution_count": 2,
   "metadata": {},
   "outputs": [
    {
     "data": {
      "text/plain": [
       "True"
      ]
     },
     "execution_count": 2,
     "metadata": {},
     "output_type": "execute_result"
    }
   ],
   "source": [
    "client = redis.Redis(decode_responses=True)\n",
    "client.flushall()"
   ]
  },
  {
   "cell_type": "markdown",
   "metadata": {},
   "source": [
    "```mermaid\n",
    "flowchart LR\n",
    "\n",
    "update[Update Memory]\n",
    "send[Send Memory]\n",
    "retrieve[Retrieve Memory]\n",
    "request[Request Memory]\n",
    "handler_notify_transfer[Handler: Notify Transfer]\n",
    "handler_transfer_memory[Handler: Transfer Memory]\n",
    "\n",
    "\n",
    "update --> |\"timestamp(MS) < timestamp(local)\"| send\n",
    "update --> |\"timestamp(MS) > timestamp(local)\"| retrieve\n",
    "\n",
    "\n",
    "\n",
    "\n",
    "\n",
    "handler_transfer_memory --> send\n",
    "\n",
    "subgraph retrieveContext\n",
    "retrieve --> |owner is not empty| request\n",
    "\n",
    "request -.->|Wait transfer event| handler_notify_transfer\n",
    "\n",
    "end\n",
    "\n",
    "```"
   ]
  },
  {
   "cell_type": "code",
   "execution_count": 2,
   "metadata": {},
   "outputs": [],
   "source": [
    "mind = cst.Mind()\n",
    "memory1 = mind.create_memory_object(\"Memory1\", \"\")"
   ]
  },
  {
   "cell_type": "code",
   "execution_count": 3,
   "metadata": {},
   "outputs": [
    {
     "name": "stdout",
     "output_type": "stream",
     "text": [
      "node03 Retrieve Memory1\n"
     ]
    }
   ],
   "source": [
    "ms_codelet = MemoryStorageCodelet(mind, \"node0\")\n",
    "ms_codelet.time_step = 100\n",
    "\n",
    "mind.insert_codelet(ms_codelet)\n",
    "mind.start()"
   ]
  },
  {
   "cell_type": "code",
   "execution_count": 4,
   "metadata": {},
   "outputs": [
    {
     "data": {
      "text/plain": [
       "MemoryObject [idmemoryobject=1, timestamp=1727456263799, evaluation=0.0, I=[1, 1, 1], name=Memory1]"
      ]
     },
     "execution_count": 4,
     "metadata": {},
     "output_type": "execute_result"
    }
   ],
   "source": [
    "memory1"
   ]
  },
  {
   "cell_type": "code",
   "execution_count": 6,
   "metadata": {},
   "outputs": [
    {
     "data": {
      "text/plain": [
       "-1"
      ]
     },
     "execution_count": 6,
     "metadata": {},
     "output_type": "execute_result"
    },
    {
     "name": "stdout",
     "output_type": "stream",
     "text": [
      "node02 Updating memory Memory1\n",
      "node02 Send memory Memory1\n",
      "node02 Updating memory Memory1\n"
     ]
    }
   ],
   "source": [
    "memory1.set_info([1,1,1])"
   ]
  },
  {
   "cell_type": "code",
   "execution_count": 7,
   "metadata": {},
   "outputs": [],
   "source": [
    "time.sleep(1)"
   ]
  },
  {
   "cell_type": "code",
   "execution_count": 8,
   "metadata": {},
   "outputs": [
    {
     "data": {
      "text/plain": [
       "{'node0'}"
      ]
     },
     "execution_count": 8,
     "metadata": {},
     "output_type": "execute_result"
    }
   ],
   "source": [
    "client.smembers(\"default_mind:nodes\")"
   ]
  },
  {
   "cell_type": "code",
   "execution_count": 9,
   "metadata": {},
   "outputs": [
    {
     "data": {
      "text/plain": [
       "{'name': 'Memory1',\n",
       " 'evaluation': '0.0',\n",
       " 'I': '',\n",
       " 'id': '0.0',\n",
       " 'owner': 'node0'}"
      ]
     },
     "execution_count": 9,
     "metadata": {},
     "output_type": "execute_result"
    }
   ],
   "source": [
    "client.hgetall(\"default_mind:memories:Memory1\")"
   ]
  },
  {
   "cell_type": "code",
   "execution_count": 10,
   "metadata": {},
   "outputs": [],
   "source": [
    "mind2 = cst.Mind()\n",
    "mind2_memory1 = mind2.create_memory_object(\"Memory1\", \"\")\n",
    "mind2_ms_codelet = MemoryStorageCodelet(mind2)\n",
    "mind2_ms_codelet.time_step = 100\n",
    "mind2.insert_codelet(mind2_ms_codelet)\n",
    "mind2.start()"
   ]
  },
  {
   "cell_type": "code",
   "execution_count": 11,
   "metadata": {},
   "outputs": [
    {
     "name": "stdout",
     "output_type": "stream",
     "text": [
      "node1 Retrieve Memory1\n",
      "node1 Requesting Memory1\n",
      "node0 Tranfering Memory1\n",
      "node0 Send memory Memory1\n",
      "node1 Updating memory Memory1\n",
      "node0 Updating memory Memory1\n",
      "node1 Send memory Memory1\n",
      "node1 Updating memory Memory1\n",
      "node0 Updating memory Memory1\n",
      "node0 Retrieve Memory1\n",
      "node0 INFO  \"\"\n",
      "node1 INFO  \"\"\n"
     ]
    },
    {
     "data": {
      "text/plain": [
       "MemoryObject [idmemoryobject=0.0, timestamp=1726077369.7999365, evaluation=0.0, I=, name=Memory1]"
      ]
     },
     "execution_count": 11,
     "metadata": {},
     "output_type": "execute_result"
    }
   ],
   "source": [
    "mind2_memory1"
   ]
  },
  {
   "cell_type": "code",
   "execution_count": 12,
   "metadata": {},
   "outputs": [
    {
     "data": {
      "text/plain": [
       "'node1'"
      ]
     },
     "execution_count": 12,
     "metadata": {},
     "output_type": "execute_result"
    }
   ],
   "source": [
    "mind2_ms_codelet._node_name"
   ]
  },
  {
   "cell_type": "code",
   "execution_count": 13,
   "metadata": {},
   "outputs": [
    {
     "data": {
      "text/plain": [
       "{'node0', 'node1'}"
      ]
     },
     "execution_count": 13,
     "metadata": {},
     "output_type": "execute_result"
    }
   ],
   "source": [
    "client.smembers(\"default_mind:nodes\")"
   ]
  },
  {
   "cell_type": "code",
   "execution_count": 14,
   "metadata": {},
   "outputs": [],
   "source": [
    "time.sleep(1)"
   ]
  },
  {
   "cell_type": "code",
   "execution_count": 15,
   "metadata": {},
   "outputs": [
    {
     "data": {
      "text/plain": [
       "MemoryObject [idmemoryobject=0.0, timestamp=1726077369.7999365, evaluation=0.0, I=, name=Memory1]"
      ]
     },
     "execution_count": 15,
     "metadata": {},
     "output_type": "execute_result"
    }
   ],
   "source": [
    "mind2_memory1"
   ]
  },
  {
   "cell_type": "code",
   "execution_count": 16,
   "metadata": {},
   "outputs": [
    {
     "data": {
      "text/plain": [
       "{'name': 'Memory1',\n",
       " 'evaluation': '0.0',\n",
       " 'I': '\"\"',\n",
       " 'id': '0',\n",
       " 'owner': '',\n",
       " 'timestamp': '1726077369.5866976'}"
      ]
     },
     "execution_count": 16,
     "metadata": {},
     "output_type": "execute_result"
    }
   ],
   "source": [
    "client.hgetall(\"default_mind:memories:Memory1\")"
   ]
  },
  {
   "cell_type": "code",
   "execution_count": 17,
   "metadata": {},
   "outputs": [
    {
     "data": {
      "text/plain": [
       "-1"
      ]
     },
     "execution_count": 17,
     "metadata": {},
     "output_type": "execute_result"
    }
   ],
   "source": [
    "memory1.set_info(\"INFO\")"
   ]
  },
  {
   "cell_type": "code",
   "execution_count": 18,
   "metadata": {},
   "outputs": [
    {
     "name": "stdout",
     "output_type": "stream",
     "text": [
      "node0 Updating memory Memory1\n",
      "node0 Send memory Memory1\n",
      "node1 Updating memory Memory1\n",
      "node0 Updating memory Memory1\n",
      "node1 Retrieve Memory1\n",
      "node1 INFO INFO \"INFO\"\n"
     ]
    }
   ],
   "source": [
    "time.sleep(1)"
   ]
  },
  {
   "cell_type": "code",
   "execution_count": 19,
   "metadata": {},
   "outputs": [
    {
     "data": {
      "text/plain": [
       "{'name': 'Memory1',\n",
       " 'evaluation': '0.0',\n",
       " 'I': '\"INFO\"',\n",
       " 'id': '0.0',\n",
       " 'owner': '',\n",
       " 'timestamp': '1726077370.926107'}"
      ]
     },
     "execution_count": 19,
     "metadata": {},
     "output_type": "execute_result"
    }
   ],
   "source": [
    "client.hgetall(\"default_mind:memories:Memory1\")"
   ]
  },
  {
   "cell_type": "code",
   "execution_count": 20,
   "metadata": {},
   "outputs": [
    {
     "data": {
      "text/plain": [
       "MemoryObject [idmemoryobject=0.0, timestamp=1726077371.003417, evaluation=0.0, I=INFO, name=Memory1]"
      ]
     },
     "execution_count": 20,
     "metadata": {},
     "output_type": "execute_result"
    }
   ],
   "source": [
    "mind2_memory1"
   ]
  },
  {
   "cell_type": "code",
   "execution_count": 21,
   "metadata": {},
   "outputs": [],
   "source": [
    "time.sleep(1)"
   ]
  },
  {
   "cell_type": "code",
   "execution_count": 22,
   "metadata": {},
   "outputs": [
    {
     "data": {
      "text/plain": [
       "{'name': 'Memory1',\n",
       " 'evaluation': '0.0',\n",
       " 'I': '\"INFO\"',\n",
       " 'id': '0.0',\n",
       " 'owner': '',\n",
       " 'timestamp': '1726077370.926107'}"
      ]
     },
     "execution_count": 22,
     "metadata": {},
     "output_type": "execute_result"
    }
   ],
   "source": [
    "client.hgetall(\"default_mind:memories:Memory1\")"
   ]
  },
  {
   "cell_type": "code",
   "execution_count": 23,
   "metadata": {},
   "outputs": [
    {
     "name": "stdout",
     "output_type": "stream",
     "text": [
      "node1 Updating memory Memory1\n",
      "node1 Send memory Memory1\n",
      "node0 Updating memory Memory1\n",
      "node1 Updating memory Memory1\n",
      "node0 Retrieve Memory1\n",
      "node0 INFO INFO2 \"INFO2\"\n"
     ]
    }
   ],
   "source": [
    "mind2_memory1.set_info(\"INFO2\")\n",
    "time.sleep(1)"
   ]
  },
  {
   "cell_type": "code",
   "execution_count": 24,
   "metadata": {},
   "outputs": [
    {
     "data": {
      "text/plain": [
       "{'name': 'Memory1',\n",
       " 'evaluation': '0.0',\n",
       " 'I': '\"INFO2\"',\n",
       " 'id': '0.0',\n",
       " 'owner': '',\n",
       " 'timestamp': '1726077373.0085642'}"
      ]
     },
     "execution_count": 24,
     "metadata": {},
     "output_type": "execute_result"
    }
   ],
   "source": [
    "client.hgetall(\"default_mind:memories:Memory1\")"
   ]
  },
  {
   "cell_type": "code",
   "execution_count": 25,
   "metadata": {},
   "outputs": [
    {
     "data": {
      "text/plain": [
       "MemoryObject [idmemoryobject=0.0, timestamp=1726077373.1104536, evaluation=0.0, I=INFO2, name=Memory1]"
      ]
     },
     "execution_count": 25,
     "metadata": {},
     "output_type": "execute_result"
    }
   ],
   "source": [
    "memory1"
   ]
  },
  {
   "cell_type": "code",
   "execution_count": 26,
   "metadata": {},
   "outputs": [
    {
     "name": "stdout",
     "output_type": "stream",
     "text": [
      "node0 Updating memory Memory1\n",
      "node0 Send memory Memory1\n",
      "node0 Updating memory Memory1\n",
      "node1 Updating memory Memory1\n",
      "node1 Retrieve Memory1\n",
      "node1 INFO 1 1\n"
     ]
    }
   ],
   "source": [
    "memory1.set_info(1)\n",
    "time.sleep(1)"
   ]
  },
  {
   "cell_type": "code",
   "execution_count": 27,
   "metadata": {},
   "outputs": [
    {
     "data": {
      "text/plain": [
       "1"
      ]
     },
     "execution_count": 27,
     "metadata": {},
     "output_type": "execute_result"
    }
   ],
   "source": [
    "mind2_memory1.get_info()"
   ]
  },
  {
   "cell_type": "code",
   "execution_count": 28,
   "metadata": {},
   "outputs": [
    {
     "name": "stdout",
     "output_type": "stream",
     "text": [
      "node0 Updating memory Memory1\n",
      "node0 Send memory Memory1\n",
      "node0 Updating memory Memory1\n",
      "node1 Updating memory Memory1\n",
      "node1 Retrieve Memory1\n",
      "node1 INFO 1 \"1\"\n"
     ]
    }
   ],
   "source": [
    "memory1.set_info(\"1\")\n",
    "time.sleep(1)"
   ]
  },
  {
   "cell_type": "code",
   "execution_count": 29,
   "metadata": {},
   "outputs": [
    {
     "data": {
      "text/plain": [
       "'1'"
      ]
     },
     "execution_count": 29,
     "metadata": {},
     "output_type": "execute_result"
    }
   ],
   "source": [
    "mind2_memory1.get_info()"
   ]
  },
  {
   "cell_type": "code",
   "execution_count": 30,
   "metadata": {},
   "outputs": [
    {
     "name": "stdout",
     "output_type": "stream",
     "text": [
      "node0 Updating memory Memory1\n",
      "node0 Send memory Memory1\n",
      "node1 Updating memory Memory1\n",
      "node0 Updating memory Memory1\n",
      "node1 Retrieve Memory1\n",
      "node1 INFO True true\n"
     ]
    }
   ],
   "source": [
    "memory1.set_info(True)\n",
    "time.sleep(1)\n"
   ]
  },
  {
   "cell_type": "code",
   "execution_count": 31,
   "metadata": {},
   "outputs": [
    {
     "data": {
      "text/plain": [
       "(True, bool)"
      ]
     },
     "execution_count": 31,
     "metadata": {},
     "output_type": "execute_result"
    }
   ],
   "source": [
    "mind2_memory1.get_info(), type(mind2_memory1.get_info())"
   ]
  },
  {
   "cell_type": "code",
   "execution_count": 32,
   "metadata": {},
   "outputs": [
    {
     "name": "stdout",
     "output_type": "stream",
     "text": [
      "node0 Updating memory Memory1\n",
      "node0 Send memory Memory1\n",
      "node1 Updating memory Memory1\n",
      "node0 Updating memory Memory1\n",
      "node1 Retrieve Memory1\n",
      "node1 INFO [1, 2, 3] [1, 2, 3]\n"
     ]
    },
    {
     "data": {
      "text/plain": [
       "([1, 2, 3], list)"
      ]
     },
     "execution_count": 32,
     "metadata": {},
     "output_type": "execute_result"
    }
   ],
   "source": [
    "memory1.set_info([1,2,3])\n",
    "time.sleep(1)\n",
    "mind2_memory1.get_info(), type(mind2_memory1.get_info())"
   ]
  },
  {
   "cell_type": "code",
   "execution_count": null,
   "metadata": {},
   "outputs": [],
   "source": []
  }
 ],
 "metadata": {
  "kernelspec": {
   "display_name": "Python 3",
   "language": "python",
   "name": "python3"
  },
  "language_info": {
   "codemirror_mode": {
    "name": "ipython",
    "version": 3
   },
   "file_extension": ".py",
   "mimetype": "text/x-python",
   "name": "python",
   "nbconvert_exporter": "python",
   "pygments_lexer": "ipython3",
   "version": "3.11.9"
  }
 },
 "nbformat": 4,
 "nbformat_minor": 2
}
